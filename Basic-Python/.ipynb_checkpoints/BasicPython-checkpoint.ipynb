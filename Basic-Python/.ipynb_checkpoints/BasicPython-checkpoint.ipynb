{
 "cells": [
  {
   "cell_type": "code",
   "execution_count": null,
   "metadata": {},
   "outputs": [],
   "source": [
    "## Basic Python commands"
   ]
  },
  {
   "cell_type": "code",
   "execution_count": null,
   "metadata": {},
   "outputs": [],
   "source": [
    "## glorified calculator "
   ]
  },
  {
   "cell_type": "code",
   "execution_count": 1,
   "metadata": {},
   "outputs": [
    {
     "data": {
      "text/plain": [
       "21.435888100000014"
      ]
     },
     "execution_count": 1,
     "metadata": {},
     "output_type": "execute_result"
    }
   ],
   "source": [
    "10 * 1.10 ** 8"
   ]
  },
  {
   "cell_type": "markdown",
   "metadata": {},
   "source": [
    "## To do \n",
    "\n",
    "* Create a variable called my_variable and save a number 1.20 in the variable\n",
    "* Add sqrt(4) to my_variable \n",
    "* print the result\n"
   ]
  },
  {
   "cell_type": "code",
   "execution_count": null,
   "metadata": {},
   "outputs": [],
   "source": [
    "# Create a variable my_variable\n",
    "\n",
    "#  Add sqrt(4) to my_variable\n",
    "\n",
    "# print the result\n",
    "\n"
   ]
  },
  {
   "cell_type": "code",
   "execution_count": 5,
   "metadata": {},
   "outputs": [
    {
     "data": {
      "text/plain": [
       "155.0"
      ]
     },
     "execution_count": 5,
     "metadata": {},
     "output_type": "execute_result"
    }
   ],
   "source": [
    "## Are the variables case-sensitive\n",
    "\n",
    "Height = 1.55\n",
    "Weight =  100.0\n",
    "\n",
    "# height * Weight\n",
    "\n",
    "Height * Weight"
   ]
  },
  {
   "cell_type": "markdown",
   "metadata": {},
   "source": [
    "## BMI \n",
    "\n",
    " $$ BMI = \\frac{weight}{height^2} $$"
   ]
  },
  {
   "cell_type": "markdown",
   "metadata": {},
   "source": [
    "## Let us calculate Body Mass Index\n",
    "\n",
    "# create a height variable and save your height\n",
    "\n",
    "# create a weight variable and save your weight\n",
    "\n",
    "# compute    BMI using the above shown formula"
   ]
  },
  {
   "cell_type": "code",
   "execution_count": 7,
   "metadata": {},
   "outputs": [
    {
     "data": {
      "text/plain": [
       "float"
      ]
     },
     "execution_count": 7,
     "metadata": {},
     "output_type": "execute_result"
    }
   ],
   "source": [
    "## Variable types in Python\n",
    "\n",
    "x = 3.14 \n",
    "\n",
    "type(x)"
   ]
  },
  {
   "cell_type": "code",
   "execution_count": 9,
   "metadata": {},
   "outputs": [
    {
     "name": "stdout",
     "output_type": "stream",
     "text": [
      "<class 'int'>\n"
     ]
    }
   ],
   "source": [
    "y = 3\n",
    "print(type(y))"
   ]
  },
  {
   "cell_type": "code",
   "execution_count": 10,
   "metadata": {},
   "outputs": [
    {
     "name": "stdout",
     "output_type": "stream",
     "text": [
      "<class 'bool'>\n"
     ]
    }
   ],
   "source": [
    "z = True \n",
    "print(type(z))"
   ]
  },
  {
   "cell_type": "code",
   "execution_count": 11,
   "metadata": {},
   "outputs": [
    {
     "data": {
      "text/plain": [
       "5"
      ]
     },
     "execution_count": 11,
     "metadata": {},
     "output_type": "execute_result"
    }
   ],
   "source": [
    "## Can I add two variables \n",
    "\n",
    "2 + 3 "
   ]
  },
  {
   "cell_type": "code",
   "execution_count": 12,
   "metadata": {},
   "outputs": [
    {
     "data": {
      "text/plain": [
       "'KavinBalaji'"
      ]
     },
     "execution_count": 12,
     "metadata": {},
     "output_type": "execute_result"
    }
   ],
   "source": [
    "##  Can I add two characters?\n",
    "\n",
    "'Kavin' +  'Balaji'"
   ]
  },
  {
   "cell_type": "code",
   "execution_count": 13,
   "metadata": {},
   "outputs": [
    {
     "data": {
      "text/plain": [
       "'Anish Sundar'"
      ]
     },
     "execution_count": 13,
     "metadata": {},
     "output_type": "execute_result"
    }
   ],
   "source": [
    "'Anish' + ' Sundar'"
   ]
  },
  {
   "cell_type": "code",
   "execution_count": 14,
   "metadata": {},
   "outputs": [],
   "source": [
    "## Can you spot the difference between the above two commands?"
   ]
  },
  {
   "cell_type": "code",
   "execution_count": 1,
   "metadata": {},
   "outputs": [
    {
     "name": "stdout",
     "output_type": "stream",
     "text": [
      "<class 'int'>\n",
      "<class 'float'>\n",
      "3\n",
      "<class 'bool'>\n",
      "1\n",
      "1\n",
      "My fav num is 1 . x =  1\n",
      "My fav nm is 1. x = 1\n",
      " This is is a multi-line text \n",
      "I hope you can see it!! \n",
      "String Testing\n",
      "He said, \"Aren't can't shouldn't wouldn't.\"\n",
      "He said, \"Aren't can't shouldn't wouldn't.\"\n"
     ]
    }
   ],
   "source": [
    "# Basic things\n",
    "\n",
    "3 * 'hi'\n",
    "\n",
    "# type\n",
    "i = 3\n",
    "print(type(i))\n",
    "\n",
    "f = 3.0\n",
    "print(type(f))\n",
    "\n",
    "print(int(f))\n",
    "\n",
    "b = False\n",
    "print(type(b))\n",
    "\n",
    "x = 1\n",
    "print(x)\n",
    "\n",
    "x_str = str(x)\n",
    "print(x_str)\n",
    "\n",
    "print(\"My fav num is\", x, \".\", \"x = \",x)\n",
    "\n",
    "# everything when use + is a string (no commas)\n",
    "print(\"My fav nm is \" + x_str  + \". \" + \"x = \" + x_str)\n",
    "\n",
    "# type input\n",
    "\n",
    "# text = input(\"Type someting ....\")\n",
    "# print(5 * text)\n",
    "\n",
    "# multiple line output\n",
    "\n",
    "print(''' This is is a multi-line text \n",
    "I hope you can see it!! ''' )\n",
    "\n",
    "print(\"String Testing\")\n",
    "single_quote_str = 'He said, \"Aren\\'t can\\'t shouldn\\'t wouldn\\'t.\"'\n",
    "double_quote_str = \"He said, \\\"Aren't can't shouldn't wouldn't.\\\"\"\n",
    "print(single_quote_str)\n",
    "print(double_quote_str)\n"
   ]
  }
 ],
 "metadata": {
  "kernelspec": {
   "display_name": "Python 3",
   "language": "python",
   "name": "python3"
  },
  "language_info": {
   "codemirror_mode": {
    "name": "ipython",
    "version": 3
   },
   "file_extension": ".py",
   "mimetype": "text/x-python",
   "name": "python",
   "nbconvert_exporter": "python",
   "pygments_lexer": "ipython3",
   "version": "3.6.7"
  }
 },
 "nbformat": 4,
 "nbformat_minor": 4
}
